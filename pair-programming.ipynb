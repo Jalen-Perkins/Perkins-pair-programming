{
 "cells": [
  {
   "cell_type": "code",
   "execution_count": 5,
   "id": "d87a5475-5e19-4ed6-8a49-769f1cc0ea2a",
   "metadata": {},
   "outputs": [],
   "source": [
    "import math\n",
    "def polar_to_cartesian(r, theta):\n",
    "    \"\"\"takes two values in polar co-ordinates and returns a tuple in cartesian co-ordinates\"\"\"\n",
    "    x = r*math.cos(theta)\n",
    "    y = r*math.sin(theta)\n",
    "    return x, y"
   ]
  },
  {
   "cell_type": "code",
   "execution_count": 7,
   "id": "fff25f7e-2a05-48fa-93ac-55984936f9b8",
   "metadata": {},
   "outputs": [
    {
     "name": "stdout",
     "output_type": "stream",
     "text": [
      "(0.7071067811865476, 0.7071067811865476)\n"
     ]
    }
   ],
   "source": [
    "print(polar_to_cartesian(1,math.pi/4))"
   ]
  }
 ],
 "metadata": {
  "kernelspec": {
   "display_name": "Python 3 (ipykernel)",
   "language": "python",
   "name": "python3"
  },
  "language_info": {
   "codemirror_mode": {
    "name": "ipython",
    "version": 3
   },
   "file_extension": ".py",
   "mimetype": "text/x-python",
   "name": "python",
   "nbconvert_exporter": "python",
   "pygments_lexer": "ipython3",
   "version": "3.9.13"
  }
 },
 "nbformat": 4,
 "nbformat_minor": 5
}
